{
 "cells": [
  {
   "cell_type": "code",
   "execution_count": 1,
   "id": "0b6c8218",
   "metadata": {},
   "outputs": [],
   "source": [
    "# Import the dependencies\n",
    "import pandas as pd\n",
    "import numpy as np\n",
    "from citipy import citipy\n",
    "import requests\n",
    "from config import weather_api_key"
   ]
  },
  {
   "cell_type": "code",
   "execution_count": 2,
   "id": "6a61ec90",
   "metadata": {},
   "outputs": [],
   "source": [
    "# Create a new set of 2,000 random latitudes and longitudes\n",
    "lats = np.random.uniform(low=-90.000, high=90.000, size=2000)\n",
    "lngs = np.random.uniform(low=-180.000, high=180.000, size=2000)\n",
    "# Convert into zipped lat,lng coordinates\n",
    "lat_lngs = zip(lats, lngs)\n",
    "coordinates = list(lat_lngs)"
   ]
  },
  {
   "cell_type": "code",
   "execution_count": 3,
   "id": "61b11136",
   "metadata": {},
   "outputs": [],
   "source": [
    "# Create a list for holding the cities\n",
    "cities = []\n",
    "# Get the nearest city \n",
    "for coordinate in coordinates:\n",
    "    city = citipy.nearest_city(coordinate[0], coordinate[1]).city_name\n",
    "    # If the city is unique, then we will add it to the cities list.\n",
    "    if city not in cities:\n",
    "        cities.append(city)"
   ]
  },
  {
   "cell_type": "code",
   "execution_count": null,
   "id": "59eb5d5b",
   "metadata": {},
   "outputs": [],
   "source": [
    "# Perform an API call with the OpenWeatherMap\n",
    "url = \"http://api.openweathermap.org/data/2.5/weather?units=Imperial&APPID=\" + weather_api_key\n",
    "# Create an empty list to hold the weather data.\n",
    "city_data = []\n",
    "\n",
    "for city in cities:\n",
    "    # Create endpoint URL for each city\n",
    "    city_url = url + \"&q=\" + city.replace(\" \",\"+\")\n",
    "    # Run an API request for each city\n",
    "    try:\n",
    "        city_weather = requests.get(city_url).json()\n",
    "        city_lat = round(city_weather[\"coord\"][\"lat\"],2)\n",
    "        city_lng = round(city_weather[\"coord\"][\"lon\"],2)\n",
    "        city_max_temp = city_weather[\"main\"][\"temp_max\"]\n",
    "        city_humidity = city_weather[\"main\"][\"humidity\"]\n",
    "        city_clouds = city_weather[\"clouds\"][\"all\"]\n",
    "        city_wind = city_weather[\"wind\"][\"speed\"]\n",
    "        city_desc = city_weather[\"weather\"][0][\"description\"]\n",
    "        city_country = city_weather[\"sys\"][\"country\"]\n",
    "        city_min_temp = city_weather[\"main\"][\"temp_min\"]\n",
    "        \n",
    "        city_data.append({\"City\": city.title(),\n",
    "                          \"Country\": city_country,\n",
    "                          \"Lat\": city_lat,\n",
    "                          \"Lng\": city_lng,\n",
    "                          \"Min Temp\": city_min_temp,\n",
    "                          \"Max Temp\": city_max_temp,\n",
    "                          \"Humidity\": city_humidity,\n",
    "                          \"Cloudiness\": city_clouds,\n",
    "                          \"Wind Speed\": city_wind,\n",
    "                          \"Current Description\": city_desc})\n",
    "        \n",
    "    except:\n",
    "        pass"
   ]
  },
  {
   "cell_type": "code",
   "execution_count": null,
   "id": "12853026",
   "metadata": {},
   "outputs": [],
   "source": [
    "# Add data to a new DataFrame\n",
    "city_data_df = pd.DataFrame(city_data)\n",
    "city_data_df.head(10)"
   ]
  },
  {
   "cell_type": "code",
   "execution_count": null,
   "id": "64a52ebd",
   "metadata": {},
   "outputs": [],
   "source": [
    "# Export the DataFrame as a CSV file\n",
    "output_file = \"WeatherPy_Database.csv\"\n",
    "city_data_df.to_csv(output_file, index_label=\"City_ID\")"
   ]
  }
 ],
 "metadata": {
  "kernelspec": {
   "display_name": "Python 3",
   "language": "python",
   "name": "python3"
  },
  "language_info": {
   "codemirror_mode": {
    "name": "ipython",
    "version": 3
   },
   "file_extension": ".py",
   "mimetype": "text/x-python",
   "name": "python",
   "nbconvert_exporter": "python",
   "pygments_lexer": "ipython3",
   "version": "3.7.10"
  }
 },
 "nbformat": 4,
 "nbformat_minor": 5
}
